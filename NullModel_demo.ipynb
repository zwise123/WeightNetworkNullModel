{
 "cells": [
  {
   "cell_type": "code",
   "execution_count": 4,
   "metadata": {},
   "outputs": [],
   "source": [
    "import numpy as np\n",
    "import networkx as nx\n",
    "import random\n",
    "import copy\n",
    "import math"
   ]
  },
  {
   "cell_type": "markdown",
   "metadata": {},
   "source": [
    "## 原始网络数据读取"
   ]
  },
  {
   "cell_type": "code",
   "execution_count": 12,
   "metadata": {},
   "outputs": [],
   "source": [
    "# 原始网络数据读取\n",
    "fp = open(\"USAir97.txt\",'rb')\n",
    "G = nx.read_weighted_edgelist(fp)\n",
    "fp.close()\n",
    "G0 = G.to_undirected() #原始网络无向化\n",
    "edgesCount = len(G0.edges())"
   ]
  },
  {
   "cell_type": "markdown",
   "metadata": {},
   "source": [
    "## 0阶随机断边重连零模型"
   ]
  },
  {
   "cell_type": "code",
   "execution_count": 10,
   "metadata": {},
   "outputs": [],
   "source": [
    "def random_0k(G0,nspw=1,max_tries=100):\n",
    "    if nspw > max_tries:\n",
    "        raise nx.NetworkXError(\"nspw > max_tries\")\n",
    "    if len(G0) < 3:\n",
    "        raise nx.NetworkXError(\"Graph has less than three nodes\")\n",
    "    G = copy.deepcopy(G0)\n",
    "    triesCount = 0  #总尝试次数\n",
    "    brokenEdgesCount = 0 #断边次数\n",
    "    edges = list(G.edges()) #获取图的所有边\n",
    "    nodes = G.nodes()   #获取图的所有节点\n",
    "    while brokenEdgesCount < nspw:\n",
    "        b,e = random.choice(edges) #随机选择一条即将断开的边\n",
    "        x,y = random.sample(nodes,2) #随机找两个节点，然后判断是否存在边\n",
    "        if x not in G[y] and y not in G[x]:\n",
    "            G.add_edge(x,y,weight = G[b][e]['weight'])\n",
    "            G.remove_edge(b,e)\n",
    "            edges.append((x,y))\n",
    "            edges.remove((b,e))\n",
    "            brokenEdgesCount+=1\n",
    "        if triesCount >= max_tries:\n",
    "            e=('Maximum number of swap attempts (%s) exceeded '%n +\n",
    "            'before desired swaps achieved (%s).'%nspw)\n",
    "            print (e)\n",
    "            break\n",
    "        triesCount +=1\n",
    "    return G"
   ]
  },
  {
   "cell_type": "code",
   "execution_count": 15,
   "metadata": {},
   "outputs": [],
   "source": [
    "# 生成即改变了原始网络的度分布，又改变了原始网络的权重分布的0阶零模型\n",
    "G0_0k = random_0k(G0,nspw=2*edgesCount,max_tries=100*edgesCount) #零阶随机断边重连零模型\n",
    "nx.write_edgelist(G0_0k,'WeightNetwork_0K.csv')"
   ]
  },
  {
   "cell_type": "markdown",
   "metadata": {},
   "source": [
    "## 1阶随机断边重连零模型"
   ]
  },
  {
   "cell_type": "code",
   "execution_count": 16,
   "metadata": {},
   "outputs": [],
   "source": [
    "def random_1k(G0,nswap=1,max_tries=100):    \n",
    "    if nswap >max_tries:\n",
    "        raise nx.NetworkXError('\"nswap > max_tries\"')\n",
    "    if len(G0)<4:\n",
    "        raise nx.NetworkXError(\"Graph has less than three nodes\")\n",
    "    G = copy.deepcopy(G0)\n",
    "    triesCount = 0\n",
    "    brokenEdgesCount = 0\n",
    "    edges = list(G.edges())\n",
    "    nodes = G.nodes()\n",
    "    while brokenEdgesCount < nswap:\n",
    "        (u,v),(x,y) = random.sample(edges,2)\n",
    "        if len(set([u,v,x,y])) < 4:\n",
    "            continue\n",
    "        if (u,y) not in edges and (y,u) not in edges and (x,v) not in edges and (v,x) not in edges:\n",
    "            G.add_edges_from([(u,y),(x,v)]) #添加边\n",
    "            G[u][y]['weight']=G[u][v]['weight']\n",
    "            G[x][v]['weight']=G[x][y]['weight']\n",
    "            G.remove_edges_from([(u,v),(x,y)])\n",
    "            edges.extend([(u,y),(x,v)]) #边列表添加\n",
    "            edges.remove((u,v)) #边列表移除\n",
    "            edges.remove((x,y))\n",
    "            brokenEdgesCount+=1\n",
    "        if triesCount >= max_tries:\n",
    "            e=('Maximum number of swap attempts (%s) exceeded '%triesCount +\n",
    "            'before desired swaps achieved (%s).'%nswap)\n",
    "            print (e)\n",
    "            break\n",
    "        triesCount +=1\n",
    "    return G"
   ]
  },
  {
   "cell_type": "code",
   "execution_count": 19,
   "metadata": {},
   "outputs": [],
   "source": [
    "# 生成度分布不变的1阶零模型\n",
    "G0_1k = random_1k(G0,nswap=2*edgesCount,max_tries=100*edgesCount) #1阶随机断边重连零模型\n",
    "nx.write_edgelist(G0_1k,'WeightNetwork_1K.csv')"
   ]
  },
  {
   "cell_type": "markdown",
   "metadata": {},
   "source": [
    "## 结构置乱零模型"
   ]
  },
  {
   "cell_type": "code",
   "execution_count": 20,
   "metadata": {},
   "outputs": [],
   "source": [
    "def structure_random(G0,delta=0,nswap=1,max_tries=100): #结构随机置乱零模型\n",
    "    \"\"\"\"\n",
    "    任取两个权重相同的连边，断边进行互连\n",
    "    \"\"\"\n",
    "    if nswap >max_tries:\n",
    "        raise nx.NetworkXError('\"nswap > max_tries\"')\n",
    "    if len(G0)<4:\n",
    "        raise nx.NetworkXError(\"Graph has less than three nodes\")\n",
    "    G = copy.deepcopy(G0)\n",
    "    edges = list(G.edges())\n",
    "    brokenCount = 0\n",
    "    triesCount = 0\n",
    "    while brokenCount < nswap:\n",
    "        (u,v),(x,y) = random.sample(edges,2)\n",
    "        if len(set([u,v,x,y])) < 4:\n",
    "            continue\n",
    "        if abs(float(G[u][v]['weight'])-float(G[x][y]['weight'])>delta):\n",
    "            continue\n",
    "        if (u,y) not in edges and (y,u) not in edges and (x,v) not in edges and (v,x) not in edges:\n",
    "            G.add_edges_from([(u,y),(x,v)])\n",
    "            G[u][y]['weight']=G[u][v]['weight']\n",
    "            G[x][v]['weight']=G[x][y]['weight']\n",
    "            G.remove_edges_from([(u,v),(x,y)])\n",
    "            edges.extend([(u,y),(x,v)])\n",
    "            edges.remove((u,v))\n",
    "            edges.remove((x,y))\n",
    "            brokenCount+=1\n",
    "        if triesCount>max_tries:\n",
    "            e=('Maximum number of swap attempts (%s) exceeded '%triesCount +\n",
    "            'before desired swaps achieved (%s).'%nswap)\n",
    "            print (e)\n",
    "            break\n",
    "        triesCount+=1\n",
    "    return G"
   ]
  },
  {
   "cell_type": "code",
   "execution_count": 21,
   "metadata": {},
   "outputs": [],
   "source": [
    "# 生成保证了连边权重没有发生改变，发生改变的仅仅是网络拓扑结构的零模型，来衡量原始网络中拓扑结构对于网络非平凡特性的影响\n",
    "G0_sr = structure_random(G0,0,nswap=2*edgesCount,max_tries=100*edgesCount) #结构随机置乱零模型\n",
    "nx.write_edgelist(G0_sr,'WeightNetwork_sr.csv')"
   ]
  },
  {
   "cell_type": "markdown",
   "metadata": {},
   "source": [
    "## 权重置乱零模型"
   ]
  },
  {
   "cell_type": "code",
   "execution_count": 22,
   "metadata": {},
   "outputs": [],
   "source": [
    "def weight_random(G0,nswap=1,max_tries=100):   #权重随机置乱零模型\n",
    "    G = copy.deepcopy(G0)\n",
    "    if nswap > max_tries:\n",
    "        raise nx.NetworkXError('nswap>max_tries')\n",
    "    if len(G.edges)<4:\n",
    "        raise nx.NetworkXError('Graph has less than four nodes')\n",
    "    edges = list(G.edges())\n",
    "    brokenCount = 0\n",
    "    triesCount = 0\n",
    "    while brokenCount < nswap:\n",
    "        (u, v), (x, y) = random.sample(edges, 2)\n",
    "        if len(set([x,y,u,v])) < 4:\n",
    "            continue\n",
    "        G[u][v]['weight'],G[x][y]['weight'] = G[x][y]['weight'],G[u][v]['weight']\n",
    "        if triesCount >= max_tries:\n",
    "            e=('Maximum number of swap attempts (%s) exceeded '%triesCount +\n",
    "            'before desired swaps achieved (%s).'%nswap)\n",
    "            print (e)\n",
    "            break\n",
    "        triesCount +=1\n",
    "    return G"
   ]
  },
  {
   "cell_type": "code",
   "execution_count": 25,
   "metadata": {},
   "outputs": [
    {
     "name": "stdout",
     "output_type": "stream",
     "text": [
      "Maximum number of swap attempts (212600) exceeded before desired swaps achieved (4252).\n"
     ]
    }
   ],
   "source": [
    "# 生成不改变网络拓扑，随机化连边上的权重的零模型\n",
    "G0_weightrandom = weight_random(G0,nswap=2*edgesCount,max_tries=100*edgesCount) #权重随机置乱零模型\n",
    "nx.write_edgelist(G0_weightrandom,'weight_equal.csv')"
   ]
  },
  {
   "cell_type": "markdown",
   "metadata": {},
   "source": [
    "## 弱连边1阶置乱零模型"
   ]
  },
  {
   "cell_type": "code",
   "execution_count": 26,
   "metadata": {},
   "outputs": [],
   "source": [
    "def weakEdge_1k(G0):#弱连边1阶零模型\n",
    "    \"\"\"\n",
    "    设定一个门限值，权重比门限值大的叫做强连边，权重比门限值小的叫做弱连边。\n",
    "    在刘波师兄给的代码中，只是简单的把弱连边重新构成了一个只有弱连边的图，但是按照《网络零模型构造及应用》书中，\n",
    "    而是把弱连边连接在一起，而且原来的边依然存在的\n",
    "    \"\"\"\n",
    "    edges = list(G0.edges(data=True)) #一定要加上data=True，不然数据里面会没有权重\n",
    "    weak_edges=[]\n",
    "    weight = [] #用来放边权重\n",
    "    for i in range(len(edges)):\n",
    "        weight.append(edges[i][2]['weight'])\n",
    "    weight.sort()   #权重数据五五分，前50%为弱连边，后50%为强连边,此次操作是为了找到处于中间权重值的数值，也就是门限值\n",
    "    if len(weight) % 2 == 0:\n",
    "        mid1 = int(len(weight)/2)\n",
    "        mid2 = mid1 + 1\n",
    "        if weight[mid1]==weight[mid2]:\n",
    "            for i in edges: #小于门限值的，加入弱连边\n",
    "                if i[2]['weight'] < weight[mid1]:\n",
    "                    weak_edges.append(i)\n",
    "        else:\n",
    "            for i in edges:\n",
    "                if i[2]['weight'] < weight[mid2]:\n",
    "                    weak_edges.append(i)\n",
    "    else:\n",
    "        mid = math.floor(len(weight)/2)\n",
    "        for i in edges:\n",
    "            if i[2]['weight'] < weight[mid]:\n",
    "                weak_edges.append(i)\n",
    "    #----------------------改进部分------------------------\n",
    "    G=copy.deepcopy(G0)\n",
    "    for i in range(int(len(weak_edges))):\n",
    "        weak_edges_random = random.sample(weak_edges,2)\n",
    "        #选出两条边，其中节点u和v相连，x和y相连,现在进行断边重连\n",
    "        u = weak_edges_random[0][0]\n",
    "        v = weak_edges_random[0][1]\n",
    "        x = weak_edges_random[1][0]\n",
    "        y = weak_edges_random[1][1]\n",
    "        G.add_edges_from([(u,y),(x,v)])\n",
    "        G[u][y]['weight'] = weak_edges_random[0][2]['weight']\n",
    "        G[x][v]['weight'] = weak_edges_random[1][2]['weight']\n",
    "        G.remove_edges_from([(x,y),(u,v)])\n",
    "    return G"
   ]
  },
  {
   "cell_type": "code",
   "execution_count": 28,
   "metadata": {},
   "outputs": [],
   "source": [
    "# 为了衡量弱连边在网络中的作用\n",
    "G0_weak = weakEdge_1k(G0) #弱连边1阶零模型\n",
    "nx.write_edgelist(G0_weak,'Weak_1k.csv')"
   ]
  },
  {
   "cell_type": "markdown",
   "metadata": {},
   "source": [
    "## 强连边1阶置乱零模型"
   ]
  },
  {
   "cell_type": "code",
   "execution_count": 29,
   "metadata": {},
   "outputs": [],
   "source": [
    "def strong_1k(G0):  #强连边1阶零模型\n",
    "    edges = list(G0.edges(data=True))\n",
    "    weight = []\n",
    "    strong_edge = []\n",
    "    for i in range(len(edges)):\n",
    "        weight.append(edges[i][2]['weight'])\n",
    "    weight.sort(reverse=True)\n",
    "    if len(weight)%2==0:\n",
    "        mid1 = int(len(weight)/2)\n",
    "        mid2 = mid1+1\n",
    "        if weight[mid1]==weight[mid2]:\n",
    "            for i in edges:\n",
    "                if i[2]['weight'] > weight[mid1]:\n",
    "                    strong_edge.append(i)\n",
    "        else:\n",
    "            for i in edges:\n",
    "                if i[2]['weight'] < weight[mid2]:\n",
    "                    strong_edge.append(i)\n",
    "    else:\n",
    "        mid = math.floor(len(weight)/2)\n",
    "        for i in edges:\n",
    "            if i[2]['weight'] > weight[mid]:\n",
    "                strong_edge.append(i)\n",
    "    #----------------------改进部分------------------------\n",
    "    G=copy.deepcopy(G0)\n",
    "    for i in range(int(len(strong_edge))):\n",
    "        weak_edges_random = random.sample(strong_edge,2)\n",
    "        #选出两条边，其中节点u和v相连，x和y相连,现在进行断边重连\n",
    "        u = weak_edges_random[0][0]\n",
    "        v = weak_edges_random[0][1]\n",
    "        x = weak_edges_random[1][0]\n",
    "        y = weak_edges_random[1][1]\n",
    "        G.add_edges_from([(u,y),(x,v)])\n",
    "        G[u][y]['weight'] = weak_edges_random[0][2]['weight']\n",
    "        G[x][v]['weight'] = weak_edges_random[1][2]['weight']\n",
    "        G.remove_edges_from([(x,y),(u,v)])\n",
    "    return G"
   ]
  },
  {
   "cell_type": "code",
   "execution_count": 30,
   "metadata": {},
   "outputs": [],
   "source": [
    "G0_strong = strong_1k(G0) #强连边1阶零模型\n",
    "nx.write_edgelist(G0_strong,'Strong_1k.csv')"
   ]
  },
  {
   "cell_type": "markdown",
   "metadata": {},
   "source": [
    "## 基于夫人俱乐部效应的加权复杂网络零模型"
   ]
  },
  {
   "cell_type": "code",
   "execution_count": 40,
   "metadata": {},
   "outputs": [],
   "source": [
    "def rich_club(G0,k,max_tries=100):    #面向富人俱乐部的零模型\n",
    "    \"\"\"\n",
    "    将强度大的节点定义为富节点\n",
    "    强度s：节点连边权重之和\n",
    "    :param G0:\n",
    "    :return:\n",
    "    \"\"\"\n",
    "    if len(G0) < 4:\n",
    "        raise nx.NetworkXError(\"Graph has less than four nodes.\")\n",
    "    G = copy.deepcopy(G0)\n",
    "    edges = list(G.edges())\n",
    "    nodes = G.nodes()\n",
    "    rnodes = [\n",
    "        e for e in nodes if G.degree(e,weight='weight')>=k\n",
    "    ]   #全部富节点\n",
    "    len_redges = len([e for e in edges if e[0] in rnodes and e[1] in rnodes])\n",
    "    len_possible_redges = len(rnodes)*(len(rnodes)-1)/2\n",
    "    n = 0\n",
    "    while len_redges < len_possible_redges:\n",
    "        u,x = random.sample(rnodes,2)\n",
    "        #在富节点中，寻找强度小于k的连边\n",
    "        candidate_v = [e for e in list(G[u]) if G.degree(e,weight='weight')<k]\n",
    "        candidate_y = [e for e in list(G[x]) if G.degree(e,weight='weight')<k]\n",
    "        if candidate_v !=[] and candidate_y != []:\n",
    "            v = random.choice(candidate_v)\n",
    "            y = random.choice(candidate_y)\n",
    "            if len(set([u,v,x,y])) < 4:#防止自环\n",
    "                continue\n",
    "            if (x not in G[u]) and (y not in G[v]):\n",
    "                G.add_edges_from([(u,x),(v,y)])\n",
    "                G[u][x]['weight'] = G[u][v]['weight']\n",
    "                G[v][y]['weight'] = G[x][y]['weight']\n",
    "                G.remove_edges_from([(u,v),(x,y)])\n",
    "                len_redges +=1\n",
    "        if n >= max_tries:\n",
    "            print('Maximum number of attempts (%s) exceeded' %n)\n",
    "            break\n",
    "        n +=1\n",
    "    return G\n",
    "def rich_club_break(G0, k, max_tries=100):\n",
    "    \"\"\"\n",
    "    富边：富节点和富节点的连边\n",
    "    非富边：非富节点和非富节点的连边\n",
    "    任选两条边(一条富边，一条非富边)，若富节点和非富节点间无连边，则断边重连\n",
    "    达到最大尝试次数或无富边或无非富边，循环结束\n",
    "    \"\"\"\n",
    "    if len(G0) < 4:\n",
    "        raise nx.NetworkXError(\"Graph has less than four nodes.\")\n",
    "    G = copy.deepcopy(G0)\n",
    "    edges = list(G.edges())\n",
    "    nodes = G.nodes()\n",
    "    rnodes = [e for e in nodes if G.degree(e,weight='weight')>=k]     #全部富节点\n",
    "    redges = [e for e in edges if e[0] in rnodes and e[1] in rnodes] #网络中已有的富节点和富节点的连边\n",
    "    pedges = [e for e in edges if e[0] not in rnodes and e[1] not in rnodes] #网络中已有的非富节点和非富节点的连边\n",
    "#    len_redges = len(redges)\n",
    "#    len_pedges = len(pedges)\n",
    "    n = 0\n",
    "    while redges and pedges:\n",
    "        u,v = random.choice(redges)              #随机选一条富边\n",
    "        x,y = random.choice(pedges)           #随机选一条非富边\n",
    "        if (x,u) not in edges and (u,x) not in edges and (v,y) not in edges and (y,v) not in edges:\n",
    "            G.add_edges_from([(u,x),(v,y)])\n",
    "            G[u][x]['weight'] = G[u][v]['weight']\n",
    "            G[v][y]['weight'] = G[x][y]['weight']\n",
    "            G.remove_edges_from([(u,v),(x,y)])\n",
    "            edges.extend([(u,x),(v,y)])\n",
    "            edges.remove((u,v))\n",
    "            edges.remove((x,y))\n",
    "            redges.remove((u,v))\n",
    "            pedges.remove((x,y))\n",
    "        if n >= max_tries:\n",
    "            print ('Maximum number of attempts (%s) exceeded '%n)\n",
    "            break\n",
    "        n += 1\n",
    "    return G"
   ]
  },
  {
   "cell_type": "code",
   "execution_count": 41,
   "metadata": {},
   "outputs": [
    {
     "name": "stdout",
     "output_type": "stream",
     "text": [
      "Maximum number of attempts (212600) exceeded\n"
     ]
    }
   ],
   "source": [
    "# 生成具有富人俱乐部效应的零模型\n",
    "strengh = []\n",
    "Gs=G0.degree(weight='weight')\n",
    "for i in Gs:\n",
    "    strengh.append(i[1])\n",
    "num=50\n",
    "strengh.sort(reverse=True)\n",
    "k=strengh[num]\n",
    "G0_rich = rich_club(G0,k,100*edgesCount) #面向富人俱乐部的零模型\n",
    "nx.write_edgelist(G0_rich,'rich_club.csv')\n",
    "G0_rich_break = rich_club_break(G0,k,100*edgesCount)\n",
    "nx.write_edgelist(G0_rich_break,'rich_club_break.csv')"
   ]
  },
  {
   "cell_type": "markdown",
   "metadata": {},
   "source": [
    "## 基于不同匹配特性的加权网络零模型"
   ]
  },
  {
   "cell_type": "code",
   "execution_count": 34,
   "metadata": {},
   "outputs": [],
   "source": [
    "def assort_mixing(G0, nswap=1, max_tries=100):\n",
    "    \"\"\"\n",
    "    强度大的边与强度大的边匹配\n",
    "    \"\"\"\n",
    "    G = copy.deepcopy(G0)\n",
    "    if len(G) < 4:\n",
    "        raise nx.NetworkXError(\"Graph has less than four nodes.\")\n",
    "    if nswap > max_tries:\n",
    "        raise nx.NetworkXError(\"nswap<max_tries.\")\n",
    "    breakCount = 0\n",
    "    triesCount = 0\n",
    "    edges = list(G.edges())\n",
    "    while breakCount < max_tries:\n",
    "        (u,v),(x,y) = random.sample(edges,2)\n",
    "        if len(set([u,v,x,y])) < 4:\n",
    "            continue\n",
    "        points,weightSum = zip(*sorted(list(G.degree([u,v,x,y],weight='weight')),key=lambda d:d[1],reverse=True))\n",
    "        points_list = list(points)\n",
    "        a,b,c,d = points_list\n",
    "        zip(*sorted(list(G.degree([u, v, x, y], weight='weight')), key=lambda d: d[1], reverse=True))\n",
    "        if (a, b) not in edges and (b, a) not in edges and (c, d) not in edges and (d, c) not in edges:\n",
    "            G.add_edges_from([(a, b), (c, d)])\n",
    "            G[a][b]['weight'] = G[u][v]['weight']\n",
    "            G[c][d]['weight'] = G[x][y]['weight']\n",
    "            G.remove_edges_from([(u, v), (x, y)])\n",
    "            edges.extend([(a, b), (c, d)])\n",
    "            edges.remove((u, v))\n",
    "            edges.remove((x, y))\n",
    "            breakCount += 1\n",
    "        if  triesCount>= max_tries:\n",
    "            e = ('Maximum number of swap attempts (%s) exceeded ' % triesCount +\n",
    "                 'before desired swaps achieved (%s).' % nswap)\n",
    "            print(e)\n",
    "            break\n",
    "        triesCount += 1\n",
    "    return G"
   ]
  },
  {
   "cell_type": "code",
   "execution_count": 37,
   "metadata": {},
   "outputs": [
    {
     "name": "stdout",
     "output_type": "stream",
     "text": [
      "Maximum number of swap attempts (212600) exceeded before desired swaps achieved (4252).\n"
     ]
    }
   ],
   "source": [
    "# 生成节点强度大的倾向于与强度大的节点连接的零模型\n",
    "G0_assort = assort_mixing(G0,nswap=2*edgesCount,max_tries=100*edgesCount)\n",
    "nx.write_edgelist(G0_assort,'G0_assort.csv')"
   ]
  },
  {
   "cell_type": "code",
   "execution_count": 42,
   "metadata": {},
   "outputs": [],
   "source": [
    "def disassort_mixing(G0,nswap=1,max_tries=100): #异配\n",
    "    \"\"\"\n",
    "    强度大的节点和强度小的节点相连\n",
    "    :param G0:\n",
    "    :param nswap:\n",
    "    :param max_tries:\n",
    "    :return:\n",
    "    \"\"\"\n",
    "    if nswap>max_tries:\n",
    "        raise nx.NetworkXError(\"Number of swaps > number of tries allowed.\")\n",
    "    if len(G0) < 4:\n",
    "        raise nx.NetworkXError(\"Graph has less than four nodes.\")\n",
    "    G = copy.deepcopy(G0)\n",
    "    triesCount = 0\n",
    "    breakCount = 0\n",
    "    edges = list(G.edges())\n",
    "    while breakCount < nswap:\n",
    "        (u,v),(x,y) = random.sample(edges,2) #任选两条边\n",
    "        if len(set([u,v,x,y]))<4:\n",
    "            continue\n",
    "        points,weightSum = zip(*sorted(G.degree([u,v,x,y],weight='weight'),key=lambda d:d[1],reverse=True))\n",
    "        points_list = list(points)\n",
    "        a,b,c,d = points_list\n",
    "        if (a,d) not in edges and (d,a) not in edges and (c,b) not in edges and (b,c)not in edges:\n",
    "            G.add_edges_from([(a,d),(b,c)])\n",
    "            G[a][d]['weight'] = G[u][v]['weight']\n",
    "            G[b][c]['weight'] = G[x][y]['weight']\n",
    "            G.remove_edges_from([(u,v),(x,y)])\n",
    "            edges.extend([(a,d),(b,c)])\n",
    "            edges.remove((u,v))\n",
    "            edges.remove((x,y))\n",
    "            breakCount += 1\n",
    "        if triesCount >= max_tries:\n",
    "            e=('Maximum number of swap attempts (%s) exceeded '%triesCount +\n",
    "            'before desired swaps achieved (%s).'%nswap)\n",
    "            print (e)\n",
    "            break\n",
    "        triesCount += 1\n",
    "    return G"
   ]
  },
  {
   "cell_type": "code",
   "execution_count": 44,
   "metadata": {},
   "outputs": [],
   "source": [
    "# 生成倾向于节点强度大的与强度小的边相连的零模型\n",
    "G0_dissort = disassort_mixing(G0,nswap=2*edgesCount,max_tries=100*edgesCount)\n",
    "nx.write_edgelist(G0_dissort,'G0_dissort.csv')"
   ]
  }
 ],
 "metadata": {
  "kernelspec": {
   "display_name": "Python 3",
   "language": "python",
   "name": "python3"
  },
  "language_info": {
   "codemirror_mode": {
    "name": "ipython",
    "version": 3
   },
   "file_extension": ".py",
   "mimetype": "text/x-python",
   "name": "python",
   "nbconvert_exporter": "python",
   "pygments_lexer": "ipython3",
   "version": "3.7.6"
  }
 },
 "nbformat": 4,
 "nbformat_minor": 4
}
